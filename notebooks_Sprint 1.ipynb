{
  "metadata": {
    "language_info": {
      "codemirror_mode": {
        "name": "python",
        "version": 3
      },
      "file_extension": ".py",
      "mimetype": "text/x-python",
      "name": "python",
      "nbconvert_exporter": "python",
      "pygments_lexer": "ipython3",
      "version": "3.8"
    },
    "kernelspec": {
      "name": "python",
      "display_name": "Python (Pyodide)",
      "language": "python"
    }
  },
  "nbformat_minor": 4,
  "nbformat": 4,
  "cells": [
    {
      "cell_type": "code",
      "source": "# Compara the datetime objects\n\ndt1 = \"12:00:00\"\ndt2 = \"06:00:00\"\n\nif dt1 < dt2:\n    print(\"Timestamp 2 is later\")\nelse:\n    print(\"Timestamp 1 is later\")",
      "metadata": {
        "trusted": true
      },
      "execution_count": 1,
      "outputs": [
        {
          "name": "stdout",
          "text": "Timestamp 1 is later\n",
          "output_type": "stream"
        }
      ]
    },
    {
      "cell_type": "code",
      "source": "# importando pandas\nimport pandas as pd",
      "metadata": {
        "trusted": true
      },
      "execution_count": 7,
      "outputs": []
    },
    {
      "cell_type": "code",
      "source": "# lendo o arquivo e armazenando-o em df\ndf = pd.read_csv(\"music_project_en.csv\")",
      "metadata": {
        "trusted": true
      },
      "execution_count": 10,
      "outputs": []
    },
    {
      "cell_type": "code",
      "source": "# obtendo as primeiras 10 linhas da tabela df\nprint(df.head(10))",
      "metadata": {
        "trusted": true
      },
      "execution_count": 11,
      "outputs": [
        {
          "name": "stdout",
          "text": "     userID                        Track            artist   genre  \\\n0  FFB692EC            Kamigata To Boots  The Mass Missile    rock   \n1  55204538  Delayed Because of Accident  Andreas Rönnberg    rock   \n2    20EC38            Funiculì funiculà       Mario Lanza     pop   \n3  A3DD03C9        Dragons in the Sunset        Fire + Ice    folk   \n4  E2DC1FAE                  Soul People        Space Echo   dance   \n5  842029A1                       Chains          Obladaet  rusrap   \n6  4CB90AA5                         True      Roman Messer   dance   \n7  F03E1C1F             Feeling This Way   Polina Griffith   dance   \n8  8FA1D3BE                     L’estate       Julia Dalia  ruspop   \n9  E772D5C0                    Pessimist               NaN   dance   \n\n        City        time        Day  \n0  Shelbyville  20:28:33  Wednesday  \n1  Springfield  14:07:09     Friday  \n2  Shelbyville  20:58:07  Wednesday  \n3  Shelbyville  08:37:09     Monday  \n4  Springfield  08:34:34     Monday  \n5  Shelbyville  13:09:41     Friday  \n6  Springfield  13:00:07  Wednesday  \n7  Springfield  20:47:49  Wednesday  \n8  Springfield  09:17:40     Friday  \n9  Shelbyville  21:20:49  Wednesday  \n",
          "output_type": "stream"
        }
      ]
    },
    {
      "cell_type": "code",
      "source": "# obtendo informação geral sobre os dados em df\ninfo_df = df.info()\nprint(info_df)\n",
      "metadata": {
        "trusted": true
      },
      "execution_count": 51,
      "outputs": [
        {
          "name": "stdout",
          "text": "<class 'pandas.core.frame.DataFrame'>\nRangeIndex: 65079 entries, 0 to 65078\nData columns (total 7 columns):\n #   Column   Non-Null Count  Dtype \n---  ------   --------------  ----- \n 0   user_id  65079 non-null  object\n 1   track    65079 non-null  object\n 2   artist   65079 non-null  object\n 3   genre    65079 non-null  object\n 4   city     65079 non-null  object\n 5   time     65079 non-null  object\n 6   day      65079 non-null  object\ndtypes: object(7)\nmemory usage: 1.7+ MB\nNone\n",
          "output_type": "stream"
        }
      ]
    },
    {
      "cell_type": "code",
      "source": "# Imprimir os cabeçalhos da tabela\ncabecalhos = df.columns.tolist()\nprint(cabecalhos)\n",
      "metadata": {
        "trusted": true
      },
      "execution_count": 52,
      "outputs": [
        {
          "name": "stdout",
          "text": "['user_id', 'track', 'artist', 'genre', 'city', 'time', 'day']\n",
          "output_type": "stream"
        }
      ]
    },
    {
      "cell_type": "code",
      "source": "# Transformar todos os cabeçalhos em minúsculas\ndf.columns = df.columns.str.lower()\n\n# Imprimir os cabeçalhos da tabela novamente\ncabecalhos = df.columns.tolist()\nprint(cabecalhos)\n",
      "metadata": {
        "trusted": true
      },
      "execution_count": 53,
      "outputs": [
        {
          "name": "stdout",
          "text": "['user_id', 'track', 'artist', 'genre', 'city', 'time', 'day']\n",
          "output_type": "stream"
        }
      ]
    },
    {
      "cell_type": "code",
      "source": "# Remover espaços em branco no início e no final dos cabeçalhos\ndf.columns = df.columns.str.strip()\n\n# Imprimir os cabeçalhos da tabela novamente\ncabecalhos = df.columns.tolist()\nprint(cabecalhos)\n",
      "metadata": {
        "trusted": true
      },
      "execution_count": 54,
      "outputs": [
        {
          "name": "stdout",
          "text": "['user_id', 'track', 'artist', 'genre', 'city', 'time', 'day']\n",
          "output_type": "stream"
        }
      ]
    },
    {
      "cell_type": "code",
      "source": "# Renomeando o cabeçalho \"userID\" para \"user_id\" (snake_case)\ndf.rename(columns={'userid': 'user_id'}, inplace=True)\n\n# Imprimir os cabeçalhos da tabela novamente\ncabecalhos = df.columns.tolist()\nprint(cabecalhos)\n",
      "metadata": {
        "trusted": true
      },
      "execution_count": 55,
      "outputs": [
        {
          "name": "stdout",
          "text": "['user_id', 'track', 'artist', 'genre', 'city', 'time', 'day']\n",
          "output_type": "stream"
        }
      ]
    },
    {
      "cell_type": "code",
      "source": "# verificando o resultado: a lista de cabeçalhos\ncabecalhos = df.columns.tolist()\nprint(cabecalhos)",
      "metadata": {
        "trusted": true
      },
      "execution_count": 56,
      "outputs": [
        {
          "name": "stdout",
          "text": "['user_id', 'track', 'artist', 'genre', 'city', 'time', 'day']\n",
          "output_type": "stream"
        }
      ]
    },
    {
      "cell_type": "code",
      "source": "# calcula o número de valores ausentes\n# Método 1: Usando isna() e sum()\nvalores_ausentes = df.isna().sum()\nprint(valores_ausentes)\n\n# Método 2: Usando isnull() e sum()\nvalores_ausentes = df.isnull().sum()\nprint(valores_ausentes)\n",
      "metadata": {
        "trusted": true
      },
      "execution_count": 57,
      "outputs": [
        {
          "name": "stdout",
          "text": "user_id    0\ntrack      0\nartist     0\ngenre      0\ncity       0\ntime       0\nday        0\ndtype: int64\nuser_id    0\ntrack      0\nartist     0\ngenre      0\ncity       0\ntime       0\nday        0\ndtype: int64\n",
          "output_type": "stream"
        }
      ]
    },
    {
      "cell_type": "code",
      "source": "# Lista das colunas a serem tratadas\ncolumns_to_replace = ['track', 'artist', 'genre']\n\n# Substituir valores ausentes por 'unknown' nas colunas especificadas\nfor coluna in columns_to_replace:\n    df[coluna].fillna('unknown', inplace=True)\n",
      "metadata": {
        "trusted": true
      },
      "execution_count": 58,
      "outputs": []
    },
    {
      "cell_type": "code",
      "source": "# calculando o número de valores ausentes\n# Método 1: Usando isna() e sum()\nvalores_ausentes = df.isna().sum()\nprint(valores_ausentes)\n\n# Método 2: Usando isnull() e sum()\nvalores_ausentes = df.isnull().sum()\nprint(valores_ausentes)\n",
      "metadata": {
        "trusted": true
      },
      "execution_count": 59,
      "outputs": [
        {
          "name": "stdout",
          "text": "user_id    0\ntrack      0\nartist     0\ngenre      0\ncity       0\ntime       0\nday        0\ndtype: int64\nuser_id    0\ntrack      0\nartist     0\ngenre      0\ncity       0\ntime       0\nday        0\ndtype: int64\n",
          "output_type": "stream"
        }
      ]
    },
    {
      "cell_type": "code",
      "source": "# contando duplicados explícitos\n\nnum_duplicatas = df.duplicated().sum()\nprint(num_duplicatas)\n",
      "metadata": {
        "trusted": true
      },
      "execution_count": 60,
      "outputs": [
        {
          "name": "stdout",
          "text": "3826\n",
          "output_type": "stream"
        }
      ]
    },
    {
      "cell_type": "code",
      "source": "# removendo duplicados explícitos\ndf_sem_duplicatas = df.drop_duplicates()",
      "metadata": {
        "trusted": true
      },
      "execution_count": 61,
      "outputs": []
    },
    {
      "cell_type": "code",
      "source": "# verificando duplicados\nnum_duplicatas_apos_remocao = df_sem_duplicatas.duplicated().sum()\nprint(num_duplicatas_apos_remocao)\n",
      "metadata": {
        "trusted": true
      },
      "execution_count": 62,
      "outputs": [
        {
          "name": "stdout",
          "text": "0\n",
          "output_type": "stream"
        }
      ]
    },
    {
      "cell_type": "code",
      "source": "# Obtendo a coluna 'genre' do DataFrame\ncoluna_genre = df['genre']\n\n# Obtendo todos os valores únicos da coluna 'genre'\ngenre_unicos = coluna_genre.unique()\n\n# Ordenando os valores únicos em ordem alfabética\ngenre_unicos_ordenados = sorted(genre_unicos)\n\n# Imprimindo a lista de gêneros únicos ordenados\nfor genero in genre_unicos_ordenados:\n    print(genero)\n",
      "metadata": {
        "trusted": true
      },
      "execution_count": 63,
      "outputs": [
        {
          "name": "stdout",
          "text": "acid\nacoustic\naction\nadult\nafrica\nafrikaans\nalternative\nambient\namericana\nanimated\nanime\narabesk\narabic\narena\nargentinetango\nart\naudiobook\navantgarde\naxé\nbaile\nbalkan\nbeats\nbigroom\nblack\nbluegrass\nblues\nbollywood\nbossa\nbrazilian\nbreakbeat\nbreaks\nbroadway\ncantautori\ncantopop\ncanzone\ncaribbean\ncaucasian\nceltic\nchamber\nchildren\nchill\nchinese\nchoral\nchristian\nchristmas\nclassical\nclassicmetal\nclub\ncolombian\ncomedy\nconjazz\ncontemporary\ncountry\ncuban\ndance\ndancehall\ndancepop\ndark\ndeath\ndeep\ndeutschrock\ndeutschspr\ndirty\ndisco\ndnb\ndocumentary\ndownbeat\ndowntempo\ndrum\ndub\ndubstep\neastern\neasy\nelectronic\nelectropop\nemo\nentehno\nepicmetal\nestrada\nethnic\neurofolk\neuropean\nexperimental\nextrememetal\nfado\nfilm\nfitness\nflamenco\nfolk\nfolklore\nfolkmetal\nfolkrock\nfolktronica\nforró\nfrankreich\nfranzösisch\nfrench\nfunk\nfuture\ngangsta\ngarage\ngerman\nghazal\ngitarre\nglitch\ngospel\ngothic\ngrime\ngrunge\ngypsy\nhandsup\nhard'n'heavy\nhardcore\nhardstyle\nhardtechno\nhiphop\nhistorisch\nholiday\nhorror\nhouse\nidm\nindependent\nindian\nindie\nindipop\nindustrial\ninspirational\ninstrumental\ninternational\nirish\njam\njapanese\njazz\njewish\njpop\njungle\nk-pop\nkaradeniz\nkaraoke\nkayokyoku\nkorean\nlaiko\nlatin\nlatino\nleftfield\nlocal\nlounge\nloungeelectronic\nlovers\nmalaysian\nmandopop\nmarschmusik\nmeditative\nmediterranean\nmelodic\nmetal\nmetalcore\nmexican\nmiddle\nminimal\nmiscellaneous\nmodern\nmood\nmpb\nmuslim\nnative\nneoklassik\nneue\nnew\nnewage\nnewwave\nnu\nnujazz\nnumetal\noceania\nold\nopera\norchestral\nother\npiano\npop\npopelectronic\npopeurodance\npost\nposthardcore\npostrock\npower\nprogmetal\nprogressive\npsychedelic\npunjabi\npunk\nquebecois\nragga\nram\nrancheras\nrap\nrave\nreggae\nreggaeton\nregional\nrelax\nreligious\nretro\nrhythm\nrnb\nrnr\nrock\nrockabilly\nromance\nroots\nruspop\nrusrap\nrusrock\nsalsa\nsamba\nschlager\nself\nsertanejo\nshoegazing\nshowtunes\nsinger\nska\nslow\nsmooth\nsoul\nsoulful\nsound\nsoundtrack\nsouthern\nspecialty\nspeech\nspiritual\nsport\nstonerrock\nsurf\nswing\nsynthpop\nsängerportrait\ntango\ntanzorchester\ntaraftar\ntech\ntechno\nthrash\ntop\ntraditional\ntradjazz\ntrance\ntribal\ntrip\ntriphop\ntropical\ntürk\ntürkçe\nunknown\nurban\nuzbek\nvariété\nvi\nvideogame\nvocal\nwestern\nworld\nworldbeat\nïîï\n",
          "output_type": "stream"
        }
      ]
    },
    {
      "cell_type": "code",
      "source": "# função para substituir duplicados implícitos\ndef replace_wrong_genres(df, wrong_genres, correct_genre):\n    for wrong_genre in wrong_genres:\n        df['genre'] = df['genre'].replace(wrong_genre, correct_genre)\n\n\n",
      "metadata": {
        "trusted": true
      },
      "execution_count": 64,
      "outputs": []
    },
    {
      "cell_type": "code",
      "source": "# Lista dos duplicados implícitos\nwrong_genres = ['hip', 'hop', 'hip-hop']\n\n# Valor correto\ncorrect_genre = 'hiphop'\n\n# Chamar a função para substituir os duplicados implícitos\nreplace_wrong_genres(df, wrong_genres, correct_genre)",
      "metadata": {
        "trusted": true
      },
      "execution_count": 65,
      "outputs": []
    },
    {
      "cell_type": "code",
      "source": "# Imprimi a lista de valores únicos na coluna 'genre'\ngeneros_unicos_corrigidos = df['genre'].unique()\n\nfor genero in generos_unicos_corrigidos:\n    print(genero)\n    \n# Verifica a existência de valores duplicados\nduplicados = df.duplicated()\n\n# Imprimi o resultado\nprint(duplicados)\n",
      "metadata": {
        "trusted": true
      },
      "execution_count": 66,
      "outputs": [
        {
          "name": "stdout",
          "text": "rock\npop\nfolk\ndance\nrusrap\nruspop\nworld\nelectronic\nunknown\nalternative\nchildren\nrnb\nhiphop\njazz\npostrock\nlatin\nclassical\nmetal\nreggae\ntriphop\nblues\ninstrumental\nrusrock\ndnb\ntürk\npost\ncountry\npsychedelic\nconjazz\nindie\nposthardcore\nlocal\navantgarde\npunk\nvideogame\ntechno\nhouse\nchristmas\nmelodic\ncaucasian\nreggaeton\nsoundtrack\nsinger\nska\nsalsa\nambient\nfilm\nwestern\nrap\nbeats\nhard'n'heavy\nprogmetal\nminimal\ntropical\ncontemporary\nnew\nsoul\nholiday\ngerman\njpop\nspiritual\nurban\ngospel\nnujazz\nfolkmetal\ntrance\nmiscellaneous\nanime\nhardcore\nprogressive\nkorean\nnumetal\nvocal\nestrada\ntango\nloungeelectronic\nclassicmetal\ndubstep\nclub\ndeep\nsouthern\nblack\nfolkrock\nfitness\nfrench\ndisco\nreligious\ndrum\nextrememetal\ntürkçe\nexperimental\neasy\nmetalcore\nmodern\nargentinetango\nold\nswing\nbreaks\neurofolk\nstonerrock\nindustrial\nfunk\nmiddle\nvariété\nother\nadult\nchristian\nthrash\ngothic\ninternational\nmuslim\nrelax\nschlager\ncaribbean\nnu\nbreakbeat\ncomedy\nchill\nnewage\nspecialty\nuzbek\nk-pop\nbalkan\nchinese\nmeditative\ndub\npower\ndeath\ngrime\narabesk\nromance\nflamenco\nleftfield\neuropean\ntech\nnewwave\ndancehall\nmpb\npiano\ntop\nbigroom\nopera\nceltic\ntradjazz\nacoustic\nepicmetal\nhistorisch\ndownbeat\ndowntempo\nafrica\naudiobook\njewish\nsängerportrait\ndeutschrock\neastern\naction\nfuture\nelectropop\nfolklore\nbollywood\nmarschmusik\nrnr\nkaraoke\nindian\nrancheras\nafrikaans\nrhythm\nsound\ndeutschspr\ntrip\nlovers\nchoral\ndancepop\nretro\nsmooth\nmexican\nbrazilian\nïîï\nmood\nsurf\ngangsta\ninspirational\nidm\nethnic\nbluegrass\nbroadway\nanimated\namericana\nkaradeniz\nrockabilly\ncolombian\nself\nsertanejo\njapanese\ncanzone\nlounge\nsport\nragga\ntraditional\ngitarre\nfrankreich\nemo\nlaiko\ncantopop\nglitch\ndocumentary\noceania\npopeurodance\ndark\nvi\ngrunge\nhardstyle\nsamba\ngarage\nart\nfolktronica\nentehno\nmediterranean\nchamber\ncuban\ntaraftar\ngypsy\nhardtechno\nshoegazing\nbossa\nlatino\nworldbeat\nmalaysian\nbaile\nghazal\narabic\npopelectronic\nacid\nkayokyoku\nneoklassik\ntribal\ntanzorchester\nnative\nindependent\ncantautori\nhandsup\npunjabi\nsynthpop\nrave\nfranzösisch\nquebecois\nspeech\nsoulful\njam\nram\nhorror\norchestral\nneue\nroots\nslow\njungle\nindipop\naxé\nfado\nshowtunes\narena\nirish\nmandopop\nforró\ndirty\nregional\n0        False\n1        False\n2        False\n3        False\n4        False\n         ...  \n65074    False\n65075    False\n65076    False\n65077    False\n65078    False\nLength: 65079, dtype: bool\n",
          "output_type": "stream"
        }
      ]
    },
    {
      "cell_type": "markdown",
      "source": "### Hipótese 1: comparando o comportamento dos usuários nas duas cidades <a id='activity'></a>",
      "metadata": {}
    },
    {
      "cell_type": "code",
      "source": "# Agrupando os dados por cidade e dia da semana e calculando a contagem de músicas\ncontagem_musicas = df.groupby(['city', 'day'])['track'].count()\n\n# Resultados\nprint(\"Número de músicas tocadas em Springfield:\")\nprint(\"Segunda-feira:\", contagem_musicas['Springfield', 'Monday'])\nprint(\"Quarta-feira:\", contagem_musicas['Springfield', 'Wednesday'])\nprint(\"Sexta-feira:\", contagem_musicas['Springfield', 'Friday'])\n\nprint(\"\\nNúmero de músicas tocadas em Shelbyville:\")\nprint(\"Segunda-feira:\", contagem_musicas['Shelbyville', 'Monday'])\nprint(\"Quarta-feira:\", contagem_musicas['Shelbyville', 'Wednesday'])\nprint(\"Sexta-feira:\", contagem_musicas['Shelbyville', 'Friday'])\n",
      "metadata": {
        "trusted": true
      },
      "execution_count": 67,
      "outputs": [
        {
          "name": "stdout",
          "text": "Número de músicas tocadas em Springfield:\nSegunda-feira: 16715\nQuarta-feira: 11755\nSexta-feira: 16890\n\nNúmero de músicas tocadas em Shelbyville:\nSegunda-feira: 5982\nQuarta-feira: 7478\nSexta-feira: 6259\n",
          "output_type": "stream"
        }
      ]
    },
    {
      "cell_type": "code",
      "source": "# Calculando as músicas tocadas em cada dia da semana\n\ncontagem_musicas_por_dia = df.groupby('day')['track'].count()\n\nprint(\"Número de músicas tocadas na segunda-feira:\", contagem_musicas_por_dia['Monday'])\nprint(\"Número de músicas tocadas na quarta-feira:\", contagem_musicas_por_dia['Wednesday'])\nprint(\"Número de músicas tocadas na sexta-feira:\", contagem_musicas_por_dia['Friday'])\n",
      "metadata": {
        "trusted": true
      },
      "execution_count": 68,
      "outputs": [
        {
          "name": "stdout",
          "text": "Número de músicas tocadas na segunda-feira: 22697\nNúmero de músicas tocadas na quarta-feira: 19233\nNúmero de músicas tocadas na sexta-feira: 23149\n",
          "output_type": "stream"
        }
      ]
    },
    {
      "cell_type": "code",
      "source": "# <criando a função number_tracks()>\n\ndef number_tracks(day, city):\n    # Filtrar as linhas com o dia pretendido\n    filtered_by_day = df[df['day'] == day]\n    \n    # Filtrar as linhas com a cidade pretendida\n    filtered_by_city = filtered_by_day[filtered_by_day['city'] == city]\n    \n    # Contar o número de músicas tocadas na tabela filtrada\n    track_list_count = len(filtered_by_city)\n    \n    # Retornar o número de músicas tocadas\n    return track_list_count\n\n# uso da função com print()\nday = 'Monday'\ncity = 'Springfield'\nnumber_of_tracks = number_tracks(day, city)\nprint(f\"Número de músicas tocadas em {city} em {day}: {number_of_tracks}\")\n",
      "metadata": {
        "trusted": true
      },
      "execution_count": 69,
      "outputs": [
        {
          "name": "stdout",
          "text": "Número de músicas tocadas em Springfield em Monday: 16715\n",
          "output_type": "stream"
        }
      ]
    },
    {
      "cell_type": "code",
      "source": "# a quantidade de músicas tocadas em Springfield na segunda-feira\n\nday = 'Monday'\ncity = 'Springfield'\nnumber_of_tracks = number_tracks(day, city)\nprint(f\"Número de músicas tocadas em {city} em {day}: {number_of_tracks}\")",
      "metadata": {
        "trusted": true
      },
      "execution_count": 70,
      "outputs": [
        {
          "name": "stdout",
          "text": "Número de músicas tocadas em Springfield em Monday: 16715\n",
          "output_type": "stream"
        }
      ]
    },
    {
      "cell_type": "code",
      "source": "# a quantidade de músicas tocadas em Shelbyville na segunda-feira\n\ncity = 'Shelbyville'\nnumber_of_tracks = number_tracks(day, city)\nprint(f\"Número de músicas tocadas em {city} em {day}: {number_of_tracks}\")",
      "metadata": {
        "trusted": true
      },
      "execution_count": 71,
      "outputs": [
        {
          "name": "stdout",
          "text": "Número de músicas tocadas em Shelbyville em Monday: 5982\n",
          "output_type": "stream"
        }
      ]
    },
    {
      "cell_type": "code",
      "source": "# a quantidade de músicas tocadas em Springfield na quarta-feira\n\nday = 'Wednesday'\ncity = 'Springfield'\nnumber_of_tracks = number_tracks(day, city)\nprint(f\"Número de músicas tocadas em {city} em {day}: {number_of_tracks}\")",
      "metadata": {
        "trusted": true
      },
      "execution_count": 72,
      "outputs": [
        {
          "name": "stdout",
          "text": "Número de músicas tocadas em Springfield em Wednesday: 11755\n",
          "output_type": "stream"
        }
      ]
    },
    {
      "cell_type": "code",
      "source": "# a quantidade de músicas tocadas em Shelbyville na quarta-feira\n\ncity = 'Shelbyville'\nnumber_of_tracks = number_tracks(day, city)\nprint(f\"Número de músicas tocadas em {city} em {day}: {number_of_tracks}\")",
      "metadata": {
        "trusted": true
      },
      "execution_count": 73,
      "outputs": [
        {
          "name": "stdout",
          "text": "Número de músicas tocadas em Shelbyville em Wednesday: 7478\n",
          "output_type": "stream"
        }
      ]
    },
    {
      "cell_type": "code",
      "source": "# a quantidade de músicas tocadas em Springfield na sexta-feira\n\nday = 'Friday'\ncity = 'Springfield'\nnumber_of_tracks = number_tracks(day, city)\nprint(f\"Número de músicas tocadas em {city} em {day}: {number_of_tracks}\")",
      "metadata": {
        "trusted": true
      },
      "execution_count": 74,
      "outputs": [
        {
          "name": "stdout",
          "text": "Número de músicas tocadas em Springfield em Friday: 16890\n",
          "output_type": "stream"
        }
      ]
    },
    {
      "cell_type": "code",
      "source": "# a quantidade de músicas tocadas em Shelbyville na sexta-feira\n\ncity = 'Shelbyville'\nnumber_of_tracks = number_tracks(day, city)\nprint(f\"Número de músicas tocadas em {city} em {day}: {number_of_tracks}\")",
      "metadata": {
        "trusted": true
      },
      "execution_count": 75,
      "outputs": [
        {
          "name": "stdout",
          "text": "Número de músicas tocadas em Shelbyville em Friday: 6259\n",
          "output_type": "stream"
        }
      ]
    },
    {
      "cell_type": "code",
      "source": "# tabela com resultados\n\ncidades = ['Springfield', 'Shelbyville']\ndias_semana = ['Monday', 'Wednesday', 'Friday']\n\n\nresultados = []\n\nfor cidade in cidades:\n    linha_resultados = [cidade]\n    for dia in dias_semana:\n        numero_musicas = number_tracks(dia, cidade)\n        linha_resultados.append(numero_musicas)\n    resultados.append(linha_resultados)\n\ndf_resultados = pd.DataFrame(resultados, columns=['city', 'monday', 'wednesday', 'friday'])\n\nprint(df_resultados)\n",
      "metadata": {
        "trusted": true
      },
      "execution_count": 76,
      "outputs": [
        {
          "name": "stdout",
          "text": "          city  monday  wednesday  friday\n0  Springfield   16715      11755   16890\n1  Shelbyville    5982       7478    6259\n",
          "output_type": "stream"
        }
      ]
    },
    {
      "cell_type": "markdown",
      "source": "### Hipótese 2: música no início e no final da semana <a id='week'></a>",
      "metadata": {}
    },
    {
      "cell_type": "code",
      "source": "# criando a tabela spr_general a partir das linhas df\nspr_general = df[df['city'] == 'Springfield']\n\nprint(spr_general)\n",
      "metadata": {
        "trusted": true
      },
      "execution_count": 77,
      "outputs": [
        {
          "name": "stdout",
          "text": "        user_id                          track                   artist  \\\n1      55204538    Delayed Because of Accident         Andreas Rönnberg   \n4      E2DC1FAE                    Soul People               Space Echo   \n6      4CB90AA5                           True             Roman Messer   \n7      F03E1C1F               Feeling This Way          Polina Griffith   \n8      8FA1D3BE                       L’estate              Julia Dalia   \n...         ...                            ...                      ...   \n65073  83A474E7  I Worship Only What You Bleed  The Black Dahlia Murder   \n65074  729CBB09                        My Name                   McLean   \n65076  C5E3A0D5                      Jalopiina                  unknown   \n65077  321D0506                  Freight Train            Chas McDevitt   \n65078  3A64EF84      Tell Me Sweet Little Lies             Monica Lopez   \n\n              genre         city      time        day  \n1              rock  Springfield  14:07:09     Friday  \n4             dance  Springfield  08:34:34     Monday  \n6             dance  Springfield  13:00:07  Wednesday  \n7             dance  Springfield  20:47:49  Wednesday  \n8            ruspop  Springfield  09:17:40     Friday  \n...             ...          ...       ...        ...  \n65073  extrememetal  Springfield  21:07:12     Monday  \n65074           rnb  Springfield  13:32:28  Wednesday  \n65076    industrial  Springfield  20:09:26     Friday  \n65077          rock  Springfield  21:43:59     Friday  \n65078       country  Springfield  21:59:46     Friday  \n\n[45360 rows x 7 columns]\n",
          "output_type": "stream"
        }
      ]
    },
    {
      "cell_type": "code",
      "source": "# criando o shel_general a partir das linhas df\nshel_general = df[df['city'] == 'Shelbyville']\n\nprint(shel_general)\n",
      "metadata": {
        "trusted": true
      },
      "execution_count": 78,
      "outputs": [
        {
          "name": "stdout",
          "text": "        user_id                              track            artist  \\\n0      FFB692EC                  Kamigata To Boots  The Mass Missile   \n2        20EC38                  Funiculì funiculà       Mario Lanza   \n3      A3DD03C9              Dragons in the Sunset        Fire + Ice   \n5      842029A1                             Chains          Obladaet   \n9      E772D5C0                          Pessimist           unknown   \n...         ...                                ...               ...   \n65064  BC8EC5CF       Red Lips: Gta (Rover Rework)             Rover   \n65065  29E04611                       Bre Petrunko     Perunika Trio   \n65066  1B91C621             (Hello) Cloud Mountain   sleepmakeswaves   \n65067  F1B93F29                        Poison Kiss       Centerstone   \n65075  D08D4A55  Maybe One Day (feat. Black Spade)       Blu & Exile   \n\n            genre         city      time        day  \n0            rock  Shelbyville  20:28:33  Wednesday  \n2             pop  Shelbyville  20:58:07  Wednesday  \n3            folk  Shelbyville  08:37:09     Monday  \n5          rusrap  Shelbyville  13:09:41     Friday  \n9           dance  Shelbyville  21:20:49  Wednesday  \n...           ...          ...       ...        ...  \n65064  electronic  Shelbyville  21:06:50     Monday  \n65065       world  Shelbyville  13:56:00     Monday  \n65066    postrock  Shelbyville  09:22:13     Monday  \n65067        rock  Shelbyville  22:00:29     Monday  \n65075      hiphop  Shelbyville  10:00:00     Monday  \n\n[19719 rows x 7 columns]\n",
          "output_type": "stream"
        }
      ]
    },
    {
      "cell_type": "code",
      "source": "def genre_weekday(df, day, time1, time2):\n\n    # Filtragem consecutiva\n    # Crie a variável genre_df que armazenará apenas as linhas df onde o dia é igual a day=\n    genre_df = df[df['day'] == day]\n\n    # Filtre genre_df novamente para armazenar apenas as linhas onde o tempo é menor que time2=\n    genre_df = genre_df[genre_df['time'] < time2]\n\n    # Filtre genre_df mais uma vez para armazenar apenas as linhas onde o tempo é maior que time1=\n    genre_df = genre_df[genre_df['time'] > time1]\n\n    # Agrupe o quadro de dados filtrado pela coluna com os nomes dos gêneros, selecione a coluna ' gênero,\n    # e encontre o número de linhas para cada gênero com o método count()\n    genre_df_count = genre_df.groupby('genre')['genre'].count()\n\n    # Ordene o resultado em ordem decrescente (para que os gêneros mais populares venham primeiro no objeto Series)\n    genre_df_sorted = genre_df_count.sort_values(ascending=False)\n\n    # Retorna um objeto de série com os primeiros 15 valores de genre_df_sorted - os 15 gêneros mais populares (em um determinado dia, dentro de um determinado período de tempo)\n    return genre_df_sorted[:15]",
      "metadata": {
        "trusted": true
      },
      "execution_count": 79,
      "outputs": []
    },
    {
      "cell_type": "code",
      "source": "# chamando a função para segunda-feira de manha em Springfield (use spr_general em vez de df table)\nstart_time_monday_morning = '07:00:00'\nend_time_monday_morning = '11:00:00'\n\nresults_springfield_monday_morning = genre_weekday(spr_general, 'Monday', start_time_monday_morning, end_time_monday_morning)\n\nprint(\"Segunda-feira de manhã em Springfield:\")\nprint(results_springfield_monday_morning)\n",
      "metadata": {
        "trusted": true
      },
      "execution_count": 80,
      "outputs": [
        {
          "name": "stdout",
          "text": "Segunda-feira de manhã em Springfield:\ngenre\npop            830\ndance          589\nrock           511\nelectronic     501\nhiphop         311\nruspop         203\nworld          190\nrusrap         188\nalternative    175\nunknown        172\nclassical      167\nmetal          126\njazz           109\nfolk           107\nsoundtrack      97\nName: genre, dtype: int64\n",
          "output_type": "stream"
        }
      ]
    },
    {
      "cell_type": "code",
      "source": "# chamando a função para segunda-feira de manhã em Shelbyville (use shel_general em vez de df table)\nstart_time_monday_morning = '07:00:00'\nend_time_monday_morning = '11:00:00'\n\nresults_shelbyville_monday_morning = genre_weekday(shel_general, 'Monday', start_time_monday_morning, end_time_monday_morning)\n\nprint(\"Segunda-feira de manhã em Shelbyville:\")\nprint(results_shelbyville_monday_morning)\n",
      "metadata": {
        "trusted": true
      },
      "execution_count": 81,
      "outputs": [
        {
          "name": "stdout",
          "text": "Segunda-feira de manhã em Shelbyville:\ngenre\npop            238\ndance          192\nrock           173\nelectronic     154\nhiphop          88\nruspop          68\nalternative     65\nrusrap          56\njazz            47\nclassical       42\nworld           39\nsoundtrack      34\nrap             33\nrnb             31\nmetal           28\nName: genre, dtype: int64\n",
          "output_type": "stream"
        }
      ]
    },
    {
      "cell_type": "code",
      "source": "# chamando a função para sexta-feira à tarde em Springfield\nstart_time_friday_afternoon = '17:00:00'\nend_time_friday_afternoon = '23:00:00'\n\nresults_springfield_friday_afternoon = genre_weekday(spr_general, 'Friday', start_time_friday_afternoon, end_time_friday_afternoon)\n\nprint(\"Sexta-feira à tarde em Springfield:\")\nprint(results_springfield_friday_afternoon)\n",
      "metadata": {
        "trusted": true
      },
      "execution_count": 82,
      "outputs": [
        {
          "name": "stdout",
          "text": "Sexta-feira à tarde em Springfield:\ngenre\npop            761\nrock           546\ndance          521\nelectronic     510\nhiphop         282\nworld          220\nruspop         184\nalternative    176\nclassical      171\nrusrap         151\njazz           121\nunknown        117\nsoundtrack     112\nmetal           92\nrnb             92\nName: genre, dtype: int64\n",
          "output_type": "stream"
        }
      ]
    },
    {
      "cell_type": "code",
      "source": "# chamando a função para sexta-feira à tarde em Shelbyville\nstart_time_friday_afternoon = '17:00:00'\nend_time_friday_afternoon = '23:00:00'\n\nresults_shelbyville_friday_afternoon = genre_weekday(shel_general, 'Friday', start_time_friday_afternoon, end_time_friday_afternoon)\n\nprint(\"Sexta-feira à tarde em Shelbyville:\")\nprint(results_shelbyville_friday_afternoon)\n\n",
      "metadata": {
        "trusted": true
      },
      "execution_count": 83,
      "outputs": [
        {
          "name": "stdout",
          "text": "Sexta-feira à tarde em Shelbyville:\ngenre\npop            279\nrock           230\nelectronic     227\ndance          221\nhiphop         103\nalternative     67\nrusrap          66\njazz            66\nclassical       64\nworld           60\nunknown         49\nruspop          49\nsoundtrack      40\nrap             39\nmetal           39\nName: genre, dtype: int64\n",
          "output_type": "stream"
        }
      ]
    },
    {
      "cell_type": "markdown",
      "source": "### Hipótese 3: preferências de gênero em Springfield e Shelbyville <a id='genre'></a>\n",
      "metadata": {}
    },
    {
      "cell_type": "code",
      "source": "spr_genres = spr_general.groupby('genre')['track'].count().sort_values(ascending=False)\n",
      "metadata": {
        "trusted": true
      },
      "execution_count": 84,
      "outputs": []
    },
    {
      "cell_type": "code",
      "source": "# imprimindo as primeiras 10 linhas de spr_genres\nprint(spr_genres.head(10))\n",
      "metadata": {
        "trusted": true
      },
      "execution_count": 85,
      "outputs": [
        {
          "name": "stdout",
          "text": "genre\npop            6253\ndance          4707\nrock           4188\nelectronic     4010\nhiphop         2215\nclassical      1712\nworld          1516\nalternative    1466\nruspop         1453\nrusrap         1239\nName: track, dtype: int64\n",
          "output_type": "stream"
        }
      ]
    },
    {
      "cell_type": "code",
      "source": "shel_genres = shel_general.groupby('genre')['track'].count().sort_values(ascending=False)\n",
      "metadata": {
        "trusted": true
      },
      "execution_count": 87,
      "outputs": []
    },
    {
      "cell_type": "code",
      "source": "# imprimindo as primeiras 10 linhas de spr_genres\nprint(shel_genres.head(10))\n",
      "metadata": {
        "trusted": true
      },
      "execution_count": 88,
      "outputs": [
        {
          "name": "stdout",
          "text": "genre\npop            2597\ndance          2054\nrock           2004\nelectronic     1842\nhiphop         1020\nalternative     700\nclassical       684\nrusrap          604\nruspop          565\nworld           553\nName: track, dtype: int64\n",
          "output_type": "stream"
        }
      ]
    },
    {
      "cell_type": "markdown",
      "source": "# Conclusões <a id='end'></a>",
      "metadata": {}
    },
    {
      "cell_type": "markdown",
      "source": "Resumo das conclusões para cada uma das hipóteses:\n\n**Hipótese 1: Comparando o Comportamento dos Usuários nas Duas Cidades**\n- A hipótese afirmava que existem diferenças no consumo de música pelos usuários em Springfield e Shelbyville.\n- Com base na análise dos dados, não encontrou-se evidências significativas que comprovem essa hipótese. Os comportamentos de audição de música são bastante semelhantes nas duas cidades, especialmente nos dias de segunda-feira, quarta-feira e sexta-feira.\n- Portanto, a primeira hipótese deve ser rejeitada, pois os dados não suportam a ideia de diferenças substanciais no comportamento dos usuários com base na cidade.\n\n**Hipótese 2: Preferências de Gênero em Springfield e Shelbyville (Segunda-feira de Manhã e Sexta-feira à Tarde)**\n- A hipótese afirmava que em determinados horários (segunda-feira de manhã e sexta-feira à tarde), os cidadãos de Springfield ouviriam gêneros diferentes dos que os usuários de Shelbyville gostam.\n- Com base na análise dos dados, encontrou-se que, em geral, os gêneros mais populares em Springfield e Shelbyville são bastante semelhantes nos horários especificados. Há uma sobreposição significativa de gostos musicais entre as duas cidades.\n- Portanto, a segunda hipótese também deve ser rejeitada, pois os dados não mostram diferenças substanciais nas preferências de gênero nos horários especificados.\n\n**Hipótese 3: Preferências de Gênero em Springfield e Shelbyville (Geral)**\n- A hipótese afirmava que Shelbyville ama rap, enquanto os cidadãos de Springfield curtem mais pop.\n- Com base na análise dos dados, encontrou-se que os gêneros mais populares em Springfield e Shelbyville são muito semelhantes. Ambas as cidades têm uma forte preferência por pop, dance, rock, electronic e hiphop.\n- Portanto, a terceira hipótese deve ser rejeitada, pois os dados não sustentam a ideia de que Shelbyville tem uma preferência significativamente maior pelo gênero rap em comparação com Springfield.\n\nEm resumo, com base na análise dos dados disponíveis, não encontrou-se evidências sólidas que confirmem nenhuma das hipóteses. As preferências musicais e o comportamento dos usuários são bastante semelhantes entre as duas cidades e ao longo dos diferentes horários analisados.",
      "metadata": {}
    }
  ]
}